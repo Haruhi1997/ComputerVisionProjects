{
 "cells": [
  {
   "cell_type": "markdown",
   "metadata": {},
   "source": [
    "# Training neural nets on random numbers"
   ]
  },
  {
   "cell_type": "code",
   "execution_count": 30,
   "metadata": {},
   "outputs": [],
   "source": [
    "import numpy as np\n",
    "import matplotlib.pyplot as plt\n",
    "from sklearn.datasets.samples_generator import make_blobs\n",
    "import argparse\n",
    "import seaborn as sns"
   ]
  },
  {
   "cell_type": "code",
   "execution_count": 31,
   "metadata": {},
   "outputs": [],
   "source": [
    "def sigmoid_activation(x):\n",
    "    return 1.0/(1.0+np.exp(-x))\n",
    "(X,y)= make_blobs(n_samples=250,n_features=5,centers=2,cluster_std=1.05, random_state=20)\n",
    "X=np.c_[np.ones((X.shape[0])),X]"
   ]
  },
  {
   "cell_type": "code",
   "execution_count": 32,
   "metadata": {},
   "outputs": [
    {
     "name": "stdout",
     "output_type": "stream",
     "text": [
      "Actvn: 0.9941; predictedLabel=0, true_label=1\n",
      "Actvn: 0.9988; predictedLabel=0, true_label=1\n",
      "Actvn: 0.0021; predictedLabel=1, true_label=0\n",
      "Actvn: 0.9988; predictedLabel=0, true_label=1\n",
      "Actvn: 0.0131; predictedLabel=1, true_label=0\n",
      "Actvn: 0.9997; predictedLabel=0, true_label=1\n",
      "Actvn: 0.0071; predictedLabel=1, true_label=0\n",
      "Actvn: 0.0008; predictedLabel=1, true_label=0\n",
      "Actvn: 0.0003; predictedLabel=1, true_label=0\n",
      "Actvn: 0.0035; predictedLabel=1, true_label=0\n"
     ]
    },
    {
     "data": {
      "image/png": "[encoded data removed]",
      "text/plain": [
       "<Figure size 432x288 with 1 Axes>"
      ]
     },
     "metadata": {
      "needs_background": "light"
     },
     "output_type": "display_data"
    },
    {
     "data": {
      "image/png": "[encoded data removed]",
      "text/plain": [
       "<Figure size 432x288 with 1 Axes>"
      ]
     },
     "metadata": {
      "needs_background": "light"
     },
     "output_type": "display_data"
    }
   ],
   "source": [
    "#ap = argparse.ArgumentParser()\n",
    "#ap.add_argument(\"-e\",\"--epochs\",type=float,default=100,help=\"Num of epochs\")\n",
    "#ap.add_argument(\"-a\",\"--alpha\",type=float, default=0.01,help=\"Learning rate\")\n",
    "#args = vars(ap.parse_args())\n",
    "epochs=100\n",
    "learning_rate=np.exp(-3)\n",
    "W=np.random.uniform(size=(X.shape[1],))\n",
    "lossHistory=[]\n",
    "for epoch in np.arange(0,epochs):\n",
    "    preds = sigmoid_activation(X.dot(W))\n",
    "    error = preds-y\n",
    "    loss = np.sum(error **2)\n",
    "    lossHistory.append(loss)\n",
    "    \n",
    "    #calculation of gradient descent\n",
    "    #gradient = 2*error*X--Assuming no sigmoid activation\n",
    "    gradient = X.T.dot(error)/X.shape[0]\n",
    "    W += -learning_rate*gradient\n",
    "    #End of gradient descent\n",
    "    \n",
    "for i in np.random.choice(250,10):\n",
    "    activation= sigmoid_activation(X[i].dot(W))\n",
    "    label = 0 if activation>=0.5 else 1\n",
    "    \n",
    "    print(\"Actvn: {:.4f}; predictedLabel={}, true_label={}\".format(\n",
    "    activation, label, y[i]))\n",
    "Y=(-W[0] -(W[1]*X))/W[2]\n",
    "plt.figure()\n",
    "plt.scatter(X[:,1],X[:,2],marker=\"o\",c=y)\n",
    "plt.plot(X,Y,\"r-\")\n",
    "\n",
    "fig=plt.figure()\n",
    "plt.plot(np.arange(0,epochs),lossHistory)\n",
    "plt.title(\"Loss fxn vs epochs\")\n",
    "plt.xlabel(\"epoch\")\n",
    "plt.ylabel(\"Loss\")\n",
    "plt.show()"
   ]
  },
  {
   "cell_type": "code",
   "execution_count": 33,
   "metadata": {},
   "outputs": [
    {
     "name": "stdout",
     "output_type": "stream",
     "text": [
      "(250, 6) (6,) (6,)\n"
     ]
    }
   ],
   "source": [
    "print(X.shape,W.shape,X[0].shape)"
   ]
  },
  {
   "cell_type": "code",
   "execution_count": null,
   "metadata": {},
   "outputs": [],
   "source": []
  },
  {
   "cell_type": "code",
   "execution_count": 34,
   "metadata": {},
   "outputs": [],
   "source": [
    "#Backpropagation\n",
    "#dLdL=1\n",
    "#dLdy_pred = (y_pred-y)\n",
    "#dy_preddW1=z1*(1-z1)*X\n",
    "#dLdW1=dLdy_pred * dy_preddW1"
   ]
  },
  {
   "cell_type": "code",
   "execution_count": 35,
   "metadata": {},
   "outputs": [],
   "source": [
    "#GradientDescent\n",
    "#while True:\n",
    "#    dW= compute_gradient(loss,data,weights)\n",
    "#    W+= dW*learning_rate"
   ]
  },
  {
   "cell_type": "code",
   "execution_count": 36,
   "metadata": {},
   "outputs": [],
   "source": [
    "#To reduce loss, trying out dropout regularisation\n",
    "#H1=np.maximum(0,np.dot(X,W1))\n",
    "#U1=np.random.rand(*H1.shape)\n",
    "#H1 *= U1 #dropping here"
   ]
  },
  {
   "cell_type": "code",
   "execution_count": 86,
   "metadata": {},
   "outputs": [],
   "source": [
    "    "
   ]
  },
  {
   "cell_type": "code",
   "execution_count": null,
   "metadata": {},
   "outputs": [],
   "source": []
  },
  {
   "cell_type": "code",
   "execution_count": null,
   "metadata": {},
   "outputs": [],
   "source": []
  },
  {
   "cell_type": "code",
   "execution_count": null,
   "metadata": {},
   "outputs": [],
   "source": []
  },
  {
   "cell_type": "code",
   "execution_count": null,
   "metadata": {},
   "outputs": [],
   "source": []
  },
  {
   "cell_type": "code",
   "execution_count": null,
   "metadata": {},
   "outputs": [],
   "source": []
  },
  {
   "cell_type": "code",
   "execution_count": null,
   "metadata": {},
   "outputs": [],
   "source": []
  },
  {
   "cell_type": "code",
   "execution_count": null,
   "metadata": {},
   "outputs": [],
   "source": []
  },
  {
   "cell_type": "code",
   "execution_count": null,
   "metadata": {},
   "outputs": [],
   "source": []
  },
  {
   "cell_type": "code",
   "execution_count": null,
   "metadata": {},
   "outputs": [],
   "source": []
  },
  {
   "cell_type": "code",
   "execution_count": null,
   "metadata": {},
   "outputs": [],
   "source": []
  },
  {
   "cell_type": "code",
   "execution_count": null,
   "metadata": {},
   "outputs": [],
   "source": []
  },
  {
   "cell_type": "code",
   "execution_count": null,
   "metadata": {},
   "outputs": [],
   "source": []
  },
  {
   "cell_type": "code",
   "execution_count": null,
   "metadata": {},
   "outputs": [],
   "source": []
  },
  {
   "cell_type": "code",
   "execution_count": null,
   "metadata": {},
   "outputs": [],
   "source": []
  },
  {
   "cell_type": "code",
   "execution_count": null,
   "metadata": {},
   "outputs": [],
   "source": []
  },
  {
   "cell_type": "code",
   "execution_count": null,
   "metadata": {},
   "outputs": [],
   "source": []
  }
 ],
 "metadata": {
  "kernelspec": {
   "display_name": "Python 3",
   "language": "python",
   "name": "python3"
  },
  "language_info": {
   "codemirror_mode": {
    "name": "ipython",
    "version": 3
   },
   "file_extension": ".py",
   "mimetype": "text/x-python",
   "name": "python",
   "nbconvert_exporter": "python",
   "pygments_lexer": "ipython3",
   "version": "3.7.4"
  }
 },
 "nbformat": 4,
 "nbformat_minor": 4
}
