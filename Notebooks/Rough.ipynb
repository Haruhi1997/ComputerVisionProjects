{
 "cells": [
  {
   "cell_type": "markdown",
   "metadata": {},
   "source": [
    "# Understanding pickle module"
   ]
  },
  {
   "cell_type": "code",
   "execution_count": 14,
   "metadata": {},
   "outputs": [],
   "source": [
    "import pickle\n",
    "\n",
    "#define a dict\n",
    "d = { 'key0':'val0','key1':'val1'}\n",
    "\n",
    "dd = {}\n",
    "dd['0']= d\n",
    "\n",
    "# Create a file to dump pickle serialized object\n",
    "# Note the mode of opening file as 'ab'(append binary mode),'wb'(create binary mode) to serialize \n",
    "# the object and write into file.\n",
    "f = open('pickedfile','wb')\n",
    "pickle.dump(dd,f)\n",
    "f.close()"
   ]
  },
  {
   "cell_type": "code",
   "execution_count": 16,
   "metadata": {},
   "outputs": [
    {
     "name": "stdout",
     "output_type": "stream",
     "text": [
      "dict_keys(['key0', 'key1'])\n"
     ]
    }
   ],
   "source": [
    "#loading data from binary file\n",
    "f = open('pickedfile','rb')\n",
    "deserialisedData = pickle.load(f)\n",
    "f.close()\n",
    "\n",
    "#deserialisedData should be a dict of dicts as we encoded them that way before\n",
    "for keys in deserialisedData:\n",
    "    print(deserialisedData[keys].keys())"
   ]
  },
  {
   "cell_type": "code",
   "execution_count": null,
   "metadata": {},
   "outputs": [],
   "source": []
  },
  {
   "cell_type": "code",
   "execution_count": null,
   "metadata": {},
   "outputs": [],
   "source": []
  }
 ],
 "metadata": {
  "kernelspec": {
   "display_name": "Python 3",
   "language": "python",
   "name": "python3"
  },
  "language_info": {
   "codemirror_mode": {
    "name": "ipython",
    "version": 3
   },
   "file_extension": ".py",
   "mimetype": "text/x-python",
   "name": "python",
   "nbconvert_exporter": "python",
   "pygments_lexer": "ipython3",
   "version": "3.7.4"
  }
 },
 "nbformat": 4,
 "nbformat_minor": 2
}
